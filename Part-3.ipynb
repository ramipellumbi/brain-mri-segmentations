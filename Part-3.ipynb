{
 "cells": [
  {
   "cell_type": "code",
   "execution_count": 1,
   "metadata": {
    "collapsed": true
   },
   "outputs": [],
   "source": [
    "#Pesky import stuff\n",
    "%matplotlib inline\n",
    "\n",
    "import numpy as np\n",
    "import matplotlib\n",
    "import matplotlib.image as mpimg\n",
    "import matplotlib.pyplot as plt\n",
    "import math\n",
    "import cmath\n",
    "import nibabel as nib\n",
    "import random\n",
    "import cv2\n",
    "import scipy\n",
    "import skimage\n",
    "from scipy import ndimage\n",
    "from scipy import signal\n",
    "from scipy import stats\n",
    "from skimage.transform import warp, AffineTransform\n",
    "\n",
    "from skimage import transform, draw, filters"
   ]
  },
  {
   "cell_type": "markdown",
   "metadata": {},
   "source": [
    "<h2><center>Load Images</center></h2>"
   ]
  },
  {
   "cell_type": "markdown",
   "metadata": {},
   "source": [
    "### Function to get the Middle coronal slice of a nib_img"
   ]
  },
  {
   "cell_type": "markdown",
   "metadata": {},
   "source": [
    "Website for slice information: https://faculty.washington.edu/chudler/slice.html"
   ]
  },
  {
   "cell_type": "code",
   "execution_count": 2,
   "metadata": {
    "collapsed": true
   },
   "outputs": [],
   "source": [
    "\"\"\"MiddleCoronalSlice takes a nib_img and returns its coronal slice\"\"\"\n",
    "def MiddleCoronalSlice(nib_img):\n",
    "    nib_img_data = nib_img.get_fdata()\n",
    "    coronal_slice = nib_img_data[:, :, len(nib_img_data[0][0])//2]\n",
    "    return coronal_slice"
   ]
  },
  {
   "cell_type": "markdown",
   "metadata": {},
   "source": [
    "### Use following cell on OSX"
   ]
  },
  {
   "cell_type": "code",
   "execution_count": 4,
   "metadata": {
    "collapsed": true
   },
   "outputs": [],
   "source": [
    "# training_images_dir = ['/Users/rpellumbi/Desktop/DSP_PROJECT_DATA/Training/IBSR_0'+ str(i) + '/images/analyze/IBSR_0' + str(i) +'_ana.img' for i in range(1,7)]\n",
    "# training_segments_dir = ['/Users/rpellumbi/Desktop/DSP_PROJECT_DATA/Training/IBSR_0'+ str(i) + '/segmentation/analyze/IBSR_0' + str(i) +'_seg_ana.img' for i in range(1,7)]\n",
    "\n",
    "# validation_images_dir = ['/Users/rpellumbi/Desktop/DSP_PROJECT_DATA/Validation/IBSR_'+ i + '/images/analyze/IBSR_' + i +'_ana.img' for i in ['07', '15']]\n",
    "# validation_segments_dir = ['/Users/rpellumbi/Desktop/DSP_PROJECT_DATA/Validation/IBSR_'+ i + '/segmentation/analyze/IBSR_' + i +'_seg_ana.img' for i in ['07', '15']]\n",
    "\n",
    "# #location of testing images\n",
    "# testing_images_loc = ['08','09','10','11','12','13','14','16','17']\n",
    "\n",
    "# #where the directory of testing images will be stored\n",
    "# testing_images_dir = []\n",
    "\n",
    "# for loc in testing_images_loc:\n",
    "#     testing_images_dir.append('/Users/rpellumbi/Desktop/DSP_PROJECT_DATA/Testing/IBSR_'+ loc + '/images/analyze/IBSR_' + loc + '_ana.img')\n",
    "\n",
    "# #arrays of middle coronal slices of training images and segments\n",
    "# training_images = []\n",
    "# training_segments = []\n",
    "\n",
    "# #arrays of middle coronal slices of validation images and segments\n",
    "# validation_images = []\n",
    "# validation_segments = []\n",
    "\n",
    "# #array of middle coronal slice of testing images\n",
    "# testing_images = []\n",
    "\n",
    "# #BY DEFINITION there are an equal amount of images as there are segments so arrays are the \n",
    "# #same size and can therefore be grouped together\n",
    "\n",
    "# #load up all the training images and segments in order\n",
    "# for i in range(len(training_images_dir)):\n",
    "#     training_images.append(MiddleCoronalSlice(nib.load(training_images_dir[i])))\n",
    "#     training_segments.append(MiddleCoronalSlice(nib.load(training_segments_dir[i])))\n",
    "\n",
    "# #load up all the validation images in order\n",
    "# for i in range(len(validation_images_dir)):\n",
    "#     validation_images.append(MiddleCoronalSlice(nib.load(validation_images_dir[i])))\n",
    "#     validation_segments.append(MiddleCoronalSlice(nib.load(validation_segments_dir[i])))\n",
    "\n",
    "# #load up all testing images in order\n",
    "# for directory in testing_images_dir:\n",
    "#     testing_images.append(MiddleCoronalSlice(nib.load(directory)))"
   ]
  },
  {
   "cell_type": "markdown",
   "metadata": {},
   "source": [
    "<h2><center>1: 6 Parameter Affine Registration</center></h2>"
   ]
  },
  {
   "cell_type": "markdown",
   "metadata": {},
   "source": [
    "#### Sub Functions"
   ]
  },
  {
   "cell_type": "code",
   "execution_count": 5,
   "metadata": {
    "collapsed": true
   },
   "outputs": [],
   "source": [
    "\"\"\"\n",
    "Input(s): -moving image\n",
    "          -A_x: a global x scalar - type float (must be > 0)\n",
    "          -A_y: a global y scalar - type float (must be > 0)          \n",
    "          -theta: rotation angle in degrees; 0<=theta<=360\n",
    "          -t_x = d_m: translation on x-axis - type int\n",
    "          -t_y = d_n: translation on y-axis - type int\n",
    "          -s: shear \n",
    "          -out_size: ouput (fixed image) grid size - i.e an array in terms of fixed_image.shape (height,width)\n",
    "\n",
    "Output image has a size of the output grid size and pixel values are obtained by resampling the input image onto \n",
    "the output grid via applying the geometric transformation:\n",
    "    1)Global scale multiplied with a rotation matrix\n",
    "    2)Translation\n",
    "\n",
    "Returns: fimg: the output as a result of applying geometric transformation to input image\n",
    "\"\"\"\n",
    "def Transformer(moving_img, A_x, A_y, theta, d_m, d_n, s, out_grid_size):\n",
    "    #input image dimensions\n",
    "    ih,iw = len(moving_img), len(moving_img[0])\n",
    "    #get height(N) and width(M) of output image from input paramater out_grid_size\n",
    "    oh, ow = out_grid_size[0], out_grid_size[1]\n",
    "    \n",
    "    #the following allows our transformation to occur about the center of the image\n",
    "    shift_y, shift_x, _ = (np.array((oh, ow,1))-1) / 2.\n",
    "    shift_fwd = transform.SimilarityTransform(translation=[-shift_x, -shift_y])\n",
    "    shift_back = transform.SimilarityTransform(translation=[shift_x, shift_y])    \n",
    "    \n",
    "    #calculate the transform using input parameters\n",
    "    tform = AffineTransform(scale=(A_x, A_y), rotation=np.deg2rad(theta), shear=s,\n",
    "                        translation=(d_m, d_n))\n",
    "    \n",
    "    #warp moving image to output grid based on tform - bilinear interpolation used over nearest neighbor\n",
    "    fimg = warp( moving_img , ( shift_fwd + ( tform + shift_back )).inverse, \n",
    "                order=1, clip=False, preserve_range=True, mode='symmetric')\n",
    "    \n",
    "    return fimg"
   ]
  },
  {
   "cell_type": "code",
   "execution_count": 6,
   "metadata": {
    "collapsed": true
   },
   "outputs": [],
   "source": [
    "\"\"\"\n",
    "Input(s): -Params (a length-6 vector of geometric transformation parameters)\n",
    "                - i.e an array of (A_x, A_y, theta, t_x, t_y, s)\n",
    "          -fixed image \n",
    "          -moving image\n",
    "Returns: -Structural Similarity Measure (SSIM) defined as \n",
    "            SSIM(x,y) = (2*mu_x*mu_y + C)*(2*sigma_xy + D) / (mu_x^2 + mu_y^2 + C)*(sigma_x^2 + simga_y^2 + D)\n",
    "\"\"\"\n",
    "def Loss(Params, fixed_img, moving_img):    \n",
    "    #compute geometrically transformed image using input parameters\n",
    "    gt_img = Transformer(moving_img, *Params, fixed_img.shape) # *Params unpacks the array\n",
    "    \n",
    "    #make images grayscale\n",
    "    grayA = skimage.color.rgb2gray(gt_img)\n",
    "    grayB = skimage.color.rgb2gray(fixed_img)\n",
    "    \n",
    "    #compute SSIM\n",
    "    output = skimage.measure.compare_ssim(grayA, grayB)     \n",
    "    \n",
    "    #Return -SSIM since our goal is to minimize loss function\n",
    "    return -output"
   ]
  },
  {
   "cell_type": "code",
   "execution_count": 7,
   "metadata": {
    "collapsed": true
   },
   "outputs": [],
   "source": [
    "\"\"\"\n",
    "Optimizer computes the optimal geometric transformation parameters, and returns them alongside the \n",
    "geometric transformation of the geometric image with those parameters\n",
    "\n",
    "Input(s): -fixed image\n",
    "          -moving image\n",
    "Returns:\n",
    "          -optimal_params: optimal geometric transformation parameters\n",
    "          -transf_img: geometrically transformed moving image with optimal_params\n",
    "\"\"\"\n",
    "def Optimize(fixed_img, moving_img):\n",
    "    \n",
    "    #many initial guesses were tested but the identity worked best\n",
    "    opt_params = scipy.optimize.minimize(Loss, (1,1,0,0,0,0), args = (fixed_img,moving_img), method = 'BFGS')\n",
    "\n",
    "    transf_img = Transformer(moving_img, *opt_params.x, fixed_img.shape)\n",
    "    return opt_params.x, transf_img\n",
    "\n",
    "# def Optimize(fixed_img, moving_img):\n",
    "    \n",
    "#     opt_params = scipy.optimize.fmin(Loss, (1,1,0,0,0,0), args = (fixed_img, moving_img))\n",
    "\n",
    "#     transf_img = Transformer(moving_img, *opt_params, fixed_img.shape)\n",
    "#     return opt_params, transf_img"
   ]
  },
  {
   "cell_type": "markdown",
   "metadata": {},
   "source": [
    "#### Geometric Registration Function"
   ]
  },
  {
   "cell_type": "code",
   "execution_count": 8,
   "metadata": {
    "collapsed": true
   },
   "outputs": [],
   "source": [
    "\"\"\"\n",
    "Geometric differs from Optimize in the fact that it optimizes the normalized fixed and moving images beo\n",
    "Input(s): -fixed image\n",
    "          -moving image\n",
    "Returns:  -geometrically transformed moving image using optimal parameters\n",
    "\"\"\"\n",
    "def geometricRegistration(fixed_img, moving_img):\n",
    "    #get height (N) and width(M) of fixed image \n",
    "    height,width,c = fixed_img.shape\n",
    "    \n",
    "    #initialize an array of zeros of size MxN\n",
    "    normalizedImg = np.zeros((height,width))\n",
    "    #compute the normalized fixed image\n",
    "    normalized_fixed_img = cv2.normalize(fixed_img, 0, 255, cv2.NORM_MINMAX)\n",
    "    \n",
    "    #initialize an array of zeros of size MxN\n",
    "    normalizedImg2 = np.zeros((height,width))\n",
    "    #compute the normalized moving image\n",
    "    normalized_moving_img = cv2.normalize(moving_img, 0, 255, cv2.NORM_MINMAX)\n",
    "    \n",
    "    #compute optimal parameters, and the geometric transformed image with these optimal parameters\n",
    "    opt_params, transf_img = Optimize(normalized_fixed_img,normalized_moving_img)\n",
    "    \n",
    "    #return the geometrically transformed image with optimal paramenters\n",
    "    return opt_params, transf_img"
   ]
  },
  {
   "cell_type": "markdown",
   "metadata": {},
   "source": [
    "<h2><center>Resampling Each Training Image onto a Testing Image</center></h2>"
   ]
  },
  {
   "cell_type": "code",
   "execution_count": 9,
   "metadata": {
    "collapsed": true
   },
   "outputs": [],
   "source": [
    "\"\"\"\n",
    "transf_img[k] is the optimally transformed image from geometrickRegistration(fixed_img[j], moving_img[i])\n",
    "for each valid indices i,j - where i,j integers such that 0<=j<=8, 0<=i<=5.\n",
    "\n",
    "Thus k is an integer such that 0<=k<=53 and there are 54 total transformed images\n",
    "with a corresponding optimal transform\n",
    "\n",
    "opt_params[k] has the same invariant\n",
    "\"\"\"\n",
    "opt_params = []\n",
    "transf_img = []\n",
    "\n",
    "opt_params_v = []\n",
    "#for each validation image (j = 0,1,2,3,4,5,6,7,8)\n",
    "for fixed_img in testing_images:\n",
    "    #for each moving image (i = 0,1,2,3,4,5)\n",
    "    for moving_img in training_images: \n",
    "        op, tf = geometricRegistration(fixed_img, moving_img)\n",
    "        opt_params.append(op)\n",
    "        #append the geometricRegistration(fixed_img,moving_img) to transf_img by invariant above\n",
    "        transf_img.append(tf)\n",
    "\n",
    "\"\"\"ADDING VALIDATION IMAGES TO THE TRAINING SET\"\"\"\n",
    "        \n",
    "#for each validation image (j = 0,1,2,3,4,5,6,7,8)\n",
    "for fixed_img in testing_images:#MAPPED ONTO TESTIM\n",
    "    #for each moving image (i = 0,1)\n",
    "    for moving_img in validation_images: #VALIDATION IS NOW MOVING IMAGE\n",
    "        op, tf = geometricRegistration(fixed_img, moving_img)\n",
    "        opt_params_v.append(op)\n",
    "        #append the geometricRegistration(fixed_img,moving_img) to transf_img by invariant above\n",
    "        transf_img.append(tf)"
   ]
  },
  {
   "cell_type": "code",
   "execution_count": 10,
   "metadata": {
    "collapsed": true
   },
   "outputs": [],
   "source": [
    "#seg_img_0 is each training segment i (0<=i<=5) mapped onto testing image j (j = 0)\n",
    "seg_img_0 = [Transformer(training_segments[i], *opt_params[i], testing_images[0].shape) for i in range(6)]\n",
    "\n",
    "#seg_img_1 is each training segment i (0<=i<=5) mapped onto testing image j (j = 1)\n",
    "seg_img_1 = [Transformer(training_segments[i], *opt_params[6+i], testing_images[1].shape) for i in range(6)]\n",
    "\n",
    "#seg_img_2 is each training segment i (0<=i<=5) mapped onto testing image j (j = 2)\n",
    "seg_img_2 = [Transformer(training_segments[i], *opt_params[12+i], testing_images[2].shape) for i in range(6)]\n",
    "\n",
    "#seg_img_3 is each training segment i (0<=i<=5) mapped onto testing image j (j = 3)\n",
    "seg_img_3 = [Transformer(training_segments[i], *opt_params[18+i], testing_images[3].shape) for i in range(6)]\n",
    "\n",
    "#seg_img_4 is each training segment i (0<=i<=5) mapped onto testing image j (j = 4)\n",
    "seg_img_4 = [Transformer(training_segments[i], *opt_params[24+i], testing_images[4].shape) for i in range(6)]\n",
    "\n",
    "#seg_img_5 is each training segment i (0<=i<=5) mapped onto testing image j (j = 5)\n",
    "seg_img_5 = [Transformer(training_segments[i], *opt_params[30+i], testing_images[5].shape) for i in range(6)]\n",
    "\n",
    "#seg_img_6 is each training segment i (0<=i<=5) mapped onto testing image j (j = 6)\n",
    "seg_img_6 = [Transformer(training_segments[i], *opt_params[36+i], testing_images[6].shape) for i in range(6)]\n",
    "\n",
    "#seg_img_7 is each training segment i (0<=i<=5) mapped onto testing image j (j = 7)\n",
    "seg_img_7 = [Transformer(training_segments[i], *opt_params[42+i], testing_images[7].shape) for i in range(6)]\n",
    "\n",
    "#seg_img_8 is each training segment i (0<=i<=5) mapped onto testing image j (j = 8)\n",
    "seg_img_8 = [Transformer(training_segments[i], *opt_params[48+i], testing_images[8].shape) for i in range(6)]\n"
   ]
  },
  {
   "cell_type": "code",
   "execution_count": 11,
   "metadata": {
    "collapsed": true
   },
   "outputs": [],
   "source": [
    "\"\"\"ADD VALIDATION IMAGES TO PROPER LOCATION\"\"\"\n",
    "for i in range(2):\n",
    "    seg_img_0.append(Transformer(validation_segments[i], *opt_params_v[i], testing_images[0].shape))\n",
    "    seg_img_1.append(Transformer(validation_segments[i], *opt_params_v[i+2], testing_images[1].shape))\n",
    "    seg_img_2.append(Transformer(validation_segments[i], *opt_params_v[i+4], testing_images[2].shape))\n",
    "    seg_img_3.append(Transformer(validation_segments[i], *opt_params_v[i+6], testing_images[3].shape))\n",
    "    seg_img_4.append(Transformer(validation_segments[i], *opt_params_v[i+8], testing_images[4].shape))\n",
    "    seg_img_5.append(Transformer(validation_segments[i], *opt_params_v[i+10], testing_images[5].shape))\n",
    "    seg_img_6.append(Transformer(validation_segments[i], *opt_params_v[i+12], testing_images[6].shape))\n",
    "    seg_img_7.append(Transformer(validation_segments[i], *opt_params_v[i+14], testing_images[7].shape))\n",
    "    seg_img_8.append(Transformer(validation_segments[i], *opt_params_v[i+16], testing_images[8].shape))"
   ]
  },
  {
   "cell_type": "markdown",
   "metadata": {},
   "source": [
    "<h2><center>4: Computing the Most Frequent Training Label for Every Pixel on Testing Subject Grid</center></h2>"
   ]
  },
  {
   "cell_type": "markdown",
   "metadata": {},
   "source": [
    " #### Making a \"Set\" of Images"
   ]
  },
  {
   "cell_type": "code",
   "execution_count": 12,
   "metadata": {
    "collapsed": true
   },
   "outputs": [],
   "source": [
    "\"\"\"\n",
    "The v_0_set is the stack of the 6 training images mapped onto the first validation images grid (i.e a stack of 6 images)\n",
    "The v_1_set is the stack of the 6 training images mapped onto the first validation images grid (i.e a stack of 6 images)\n",
    "\"\"\"\n",
    "#intialize a 256x256xj array of zeros such that each \"level\" j contains seg_img_X[j]\n",
    "t_0_set = np.zeros((256,256,8)) #set of training segments mapped onto testing image IBSR 08 (testing_images[0]) +validation segment\n",
    "t_1_set = np.zeros((256,256,8)) #set of training segments mapped onto testing image IBSR 09 (testing_images[1]) +validation segment\n",
    "t_2_set = np.zeros((256,256,8)) #set of training segments mapped onto testing image IBSR 10 (testing_images[2]) +validation segment\n",
    "t_3_set = np.zeros((256,256,8)) #set of training segments mapped onto testing image IBSR 11 (testing_images[3]) +validation segment\n",
    "t_4_set = np.zeros((256,256,8)) #set of training segments mapped onto testing image IBSR 12 (testing_images[4]) +validation segment\n",
    "t_5_set = np.zeros((256,256,8)) #set of training segments mapped onto testing image IBSR 13 (testing_images[5]) +validation segment\n",
    "t_6_set = np.zeros((256,256,8)) #set of training segments mapped onto testing image IBSR 14 (testing_images[6]) +validation segment\n",
    "t_7_set = np.zeros((256,256,8)) #set of training segments mapped onto testing image IBSR 16 (testing_images[7]) +validation segment\n",
    "t_8_set = np.zeros((256,256,8)) #set of training segments mapped onto testing image IBSR 17 (testing_images[8]) +validation segment\n",
    "\n",
    "#store images in proper places\n",
    "for j in range (8):\n",
    "    t_0_set[:,:,j] = seg_img_0[j][:,:,0]\n",
    "    t_1_set[:,:,j] = seg_img_1[j][:,:,0]\n",
    "    t_2_set[:,:,j] = seg_img_2[j][:,:,0]\n",
    "    t_3_set[:,:,j] = seg_img_3[j][:,:,0]\n",
    "    t_4_set[:,:,j] = seg_img_4[j][:,:,0]\n",
    "    t_5_set[:,:,j] = seg_img_5[j][:,:,0]\n",
    "    t_6_set[:,:,j] = seg_img_6[j][:,:,0]\n",
    "    t_7_set[:,:,j] = seg_img_7[j][:,:,0]\n",
    "    t_8_set[:,:,j] = seg_img_8[j][:,:,0]"
   ]
  },
  {
   "cell_type": "markdown",
   "metadata": {},
   "source": [
    "### Computing Most Frequent Training Label For a Set of Images"
   ]
  },
  {
   "cell_type": "code",
   "execution_count": 13,
   "metadata": {
    "collapsed": true
   },
   "outputs": [],
   "source": [
    "\n",
    "def mode(array):\n",
    "    most = max(list(map(array.count, array)))\n",
    "    return list(set(filter(lambda x: array.count(x) == most, array)))\n",
    "\n",
    "\n",
    "def MFTL(img_set):\n",
    "    \"\"\"\n",
    "MFTL computes the most frequent training label between a set of images. If there is a tie, a random one is chosen.\n",
    "\n",
    "Want to compute the MODE between each pixel (m,n) at level j (m in [M], n in [N], j in [J]) for a \"level-set\" \n",
    "of images and store it in a new output image where each pixel (m,n) of the output image is the MODE\n",
    "\n",
    "Input: J MxN images in an (M,N,J) array (J = 6)\n",
    "Returns: Image where each pixel is the most frequent training label between each pixel [m][n] between all [j] levels\n",
    "    \"\"\"\n",
    "    M = len(img_set)\n",
    "    N = len(img_set[0])\n",
    "    J = len(img_set[0][0])\n",
    "    \n",
    "    #where to store output image\n",
    "    output = np.zeros((256,256))\n",
    "    finalimg = np.zeros((256,256))\n",
    "    for m in range(M):\n",
    "        for n in range(N):\n",
    "            #l is the list of intensity values it (m,n) between j images\n",
    "            l = [img_set[m][n][j] for j in range(J)]\n",
    "            #nz is the an array of the indices for which l was nonzero\n",
    "            nz = np.nonzero(l)\n",
    "            #compute the mode of pixel (m,n) between the j images\n",
    "            mode1 = max(mode(l))\n",
    "            \n",
    "            #if the mode is zero but there were nonzero intensity values at (m,n) for some image j\n",
    "            if(mode1 == 0 and len(nz[0]) > 0):\n",
    "                #lvals is a list of values among j images that were nonzero in l at pixel (m,n)\n",
    "                lvals = [l[nz[0][k]] for k in range(len(nz[0]))]\n",
    "                #compute new mode of nonzero pixels\n",
    "                mode2 = max(mode(lvals))\n",
    "                #set output to new mode\n",
    "                output[m][n] = mode2\n",
    "            else:\n",
    "                #the (m,n) output pixel is equal to that mode\n",
    "                output[m][n] = mode1\n",
    "    \n",
    "    return output"
   ]
  },
  {
   "cell_type": "markdown",
   "metadata": {},
   "source": [
    "#### Compute MFTL of Each Set and Visualize Results"
   ]
  },
  {
   "cell_type": "code",
   "execution_count": 14,
   "metadata": {
    "scrolled": false
   },
   "outputs": [
    {
     "data": {
      "text/plain": [
       "Text(0.5, 1.0, 'Most Frequent Training Label of T_8 Set')"
      ]
     },
     "execution_count": 14,
     "metadata": {},
     "output_type": "execute_result"
    },
    {
     "data": {
      "image/png": "[encoded data removed]",
      "text/plain": [
       "<Figure size 432x288 with 1 Axes>"
      ]
     },
     "metadata": {
      "needs_background": "light"
     },
     "output_type": "display_data"
    },
    {
     "data": {
      "image/png": "[encoded data removed]",
      "text/plain": [
       "<Figure size 432x288 with 1 Axes>"
      ]
     },
     "metadata": {
      "needs_background": "light"
     },
     "output_type": "display_data"
    },
    {
     "data": {
      "image/png": "[encoded data removed]",
      "text/plain": [
       "<Figure size 432x288 with 1 Axes>"
      ]
     },
     "metadata": {
      "needs_background": "light"
     },
     "output_type": "display_data"
    },
    {
     "data": {
      "image/png": "[encoded data removed]",
      "text/plain": [
       "<Figure size 432x288 with 1 Axes>"
      ]
     },
     "metadata": {
      "needs_background": "light"
     },
     "output_type": "display_data"
    },
    {
     "data": {
      "image/png": "[encoded data removed]",
      "text/plain": [
       "<Figure size 432x288 with 1 Axes>"
      ]
     },
     "metadata": {
      "needs_background": "light"
     },
     "output_type": "display_data"
    },
    {
     "data": {
      "image/png": "[encoded data removed]",
      "text/plain": [
       "<Figure size 432x288 with 1 Axes>"
      ]
     },
     "metadata": {
      "needs_background": "light"
     },
     "output_type": "display_data"
    },
    {
     "data": {
      "image/png": "[encoded data removed]",
      "text/plain": [
       "<Figure size 432x288 with 1 Axes>"
      ]
     },
     "metadata": {
      "needs_background": "light"
     },
     "output_type": "display_data"
    },
    {
     "data": {
      "image/png": "[encoded data removed]",
      "text/plain": [
       "<Figure size 432x288 with 1 Axes>"
      ]
     },
     "metadata": {
      "needs_background": "light"
     },
     "output_type": "display_data"
    },
    {
     "data": {
      "image/png": "[encoded data removed]",
      "text/plain": [
       "<Figure size 432x288 with 1 Axes>"
      ]
     },
     "metadata": {
      "needs_background": "light"
     },
     "output_type": "display_data"
    }
   ],
   "source": [
    "fig = plt.figure(1)\n",
    "t0_MFTL = MFTL(t_0_set) #MFTL of t_0_set\n",
    "plt.imshow(t0_MFTL, cmap = 'gray',)\n",
    "plt.title('Most Frequent Training Label of T_0 Set')\n",
    "fig.savefig('plott0mftl.png')\n",
    "\n",
    "fig = plt.figure(2)\n",
    "t1_MFTL = MFTL(t_1_set) #MFTL of t_1_set\n",
    "plt.imshow(t1_MFTL, cmap = 'gray')\n",
    "plt.title('Most Frequent Training Label of T_1 Set')\n",
    "fig.savefig('plott1mftl.png')\n",
    "\n",
    "plt.figure(3)\n",
    "t2_MFTL = MFTL(t_2_set) #MFTL of t_2_set\n",
    "plt.imshow(t2_MFTL, cmap = 'gray')\n",
    "plt.title('Most Frequent Training Label of T_2 Set')\n",
    "\n",
    "\n",
    "plt.figure(4)\n",
    "t3_MFTL = MFTL(t_3_set) #MFTL of t_3_set\n",
    "plt.imshow(t3_MFTL, cmap = 'gray')\n",
    "plt.title('Most Frequent Training Label of T_3 Set')\n",
    "\n",
    "plt.figure(5)\n",
    "t4_MFTL = MFTL(t_4_set) #MFTL of t_4_set\n",
    "plt.imshow(t4_MFTL, cmap = 'gray')\n",
    "plt.title('Most Frequent Training Label of T_4 Set')\n",
    "\n",
    "plt.figure(6)\n",
    "t5_MFTL = MFTL(t_5_set) #MFTL of t_5_set\n",
    "plt.imshow(t5_MFTL, cmap = 'gray')\n",
    "plt.title('Most Frequent Training Label of T_5 Set')\n",
    "\n",
    "plt.figure(7)\n",
    "t6_MFTL = MFTL(t_6_set) #MFTL of t_6_set\n",
    "plt.imshow(t6_MFTL, cmap = 'gray')\n",
    "plt.title('Most Frequent Training Label of T_6 Set')\n",
    "\n",
    "plt.figure(8)\n",
    "t7_MFTL = MFTL(t_7_set) #MFTL of t_7_set\n",
    "plt.imshow(t7_MFTL, cmap = 'gray')\n",
    "plt.title('Most Frequent Training Label of T_7 Set')\n",
    "\n",
    "plt.figure(9)\n",
    "t8_MFTL = MFTL(t_8_set) #MFTL of t_8_set\n",
    "plt.imshow(t8_MFTL, cmap = 'gray')\n",
    "plt.title('Most Frequent Training Label of T_8 Set')\n"
   ]
  },
  {
   "cell_type": "markdown",
   "metadata": {},
   "source": [
    "<h2><center>Export Results for Competition</center></h2>"
   ]
  },
  {
   "cell_type": "code",
   "execution_count": 15,
   "metadata": {
    "collapsed": true
   },
   "outputs": [],
   "source": [
    "\"\"\"returns an array with 1's in the location where the input image is equal to the region of interest, 0 otherwise\"\"\"\n",
    "def binary_Mask(img, ROI):\n",
    "    imgb = np.array(img)\n",
    "    return (imgb == ROI)"
   ]
  },
  {
   "cell_type": "code",
   "execution_count": 16,
   "metadata": {
    "collapsed": true
   },
   "outputs": [],
   "source": [
    "bMask_2 = [] #an array where each index is the binary mask of where the training label == ROI 2\n",
    "bMask_3 = [] #an array where each index is the binary mask of where the training label == ROI 3\n",
    "bMask_41 = [] #an array where each index is the binary mask of where the training label == ROI 41\n",
    "bMask_42 = [] #an array where each index is the binary mask of where the training label == ROI 42\n",
    "\n",
    "for MFTL in [t0_MFTL, t1_MFTL, t2_MFTL, t3_MFTL, t4_MFTL, t5_MFTL, t6_MFTL, t7_MFTL, t8_MFTL]:\n",
    "        bMask_2.append(binary_Mask(MFTL, 2))\n",
    "        bMask_3.append(binary_Mask(MFTL, 3))\n",
    "        bMask_41.append(binary_Mask(MFTL, 41))\n",
    "        bMask_42.append(binary_Mask(MFTL, 42))"
   ]
  },
  {
   "cell_type": "code",
   "execution_count": 17,
   "metadata": {
    "collapsed": true
   },
   "outputs": [],
   "source": [
    "\"\"\"\n",
    "    img: numpy array, 1 - mask, 0 - background\n",
    "    Returns run length as string formated\n",
    "\"\"\"\n",
    "def rle_encode(img):\n",
    "    pixels = img.flatten()\n",
    "    pixels = np.concatenate([[0], pixels, [0]])\n",
    "    runs = np.where(pixels[1:] != pixels[:-1])[0] + 1\n",
    "    runs[1::2] -= runs[::2]\n",
    "    return ' '.join(str(x) for x in runs)"
   ]
  },
  {
   "cell_type": "code",
   "execution_count": 18,
   "metadata": {
    "collapsed": true
   },
   "outputs": [],
   "source": [
    "import pandas as pd\n",
    "\n",
    "### ids: list containing the 36 IDs as described###\n",
    "regions = ['-left-wm', '-left-cortex', '-right-wm', '-right-cortex']\n",
    "numbers = ['8','9','10','11','12','13','14','16','17']\n",
    "labels = []\n",
    "\n",
    "for num in numbers:\n",
    "    for reg in regions:\n",
    "        labels.append(num+reg)\n",
    "\n",
    "### data: list containing the 36 binary segmentation masks in RLE format in proper order###\n",
    "data = []\n",
    "for i in range(len(bMask_2)):\n",
    "    data.append(rle_encode(bMask_2[i]))\n",
    "    data.append(rle_encode(bMask_3[i]))\n",
    "    data.append(rle_encode(bMask_41[i]))\n",
    "    data.append(rle_encode(bMask_42[i]))\n",
    "    \n",
    "df = pd.DataFrame({\"Id\": labels, \"Predicted\": data})\n",
    "df.to_csv('submission.csv', index = False) "
   ]
  }
 ],
 "metadata": {
  "kernelspec": {
   "display_name": "Python 3",
   "language": "python",
   "name": "python3"
  },
  "language_info": {
   "codemirror_mode": {
    "name": "ipython",
    "version": 3
   },
   "file_extension": ".py",
   "mimetype": "text/x-python",
   "name": "python",
   "nbconvert_exporter": "python",
   "pygments_lexer": "ipython3",
   "version": "3.7.3"
  }
 },
 "nbformat": 4,
 "nbformat_minor": 2
}
